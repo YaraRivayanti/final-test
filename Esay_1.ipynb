{
  "nbformat": 4,
  "nbformat_minor": 0,
  "metadata": {
    "colab": {
      "provenance": []
    },
    "kernelspec": {
      "name": "python3",
      "display_name": "Python 3"
    },
    "language_info": {
      "name": "python"
    }
  },
  "cells": [
    {
      "cell_type": "code",
      "execution_count": 13,
      "metadata": {
        "id": "cdgpbiA1RiAf"
      },
      "outputs": [],
      "source": [
        "import requests\n",
        "import pandas as pd\n",
        "\n",
        "\n",
        "api_url = \"https://berita-indo-api-next.vercel.app/api/cnn-news/teknologi\"\n",
        "response = requests.get(api_url)\n",
        "data_json = response.json()"
      ]
    },
    {
      "cell_type": "code",
      "source": [
        "df = pd.DataFrame(data_json['data'])"
      ],
      "metadata": {
        "id": "gGxMZDUyUp28"
      },
      "execution_count": 14,
      "outputs": []
    },
    {
      "cell_type": "code",
      "source": [
        "df['isoDate'] = pd.to_datetime(df['isoDate'])"
      ],
      "metadata": {
        "id": "hFPlX4FVUyQ7"
      },
      "execution_count": 15,
      "outputs": []
    },
    {
      "cell_type": "code",
      "source": [
        "aggregated_data = df.groupby('creator').size().reset_index(name='news_count')\n",
        "sorted_data = aggregated_data.sort_values(by='news_count', ascending=False)\n",
        "\n",
        "print(sorted_data)"
      ],
      "metadata": {
        "id": "uUpSEGrCV2zj"
      },
      "execution_count": null,
      "outputs": []
    }
  ]
}